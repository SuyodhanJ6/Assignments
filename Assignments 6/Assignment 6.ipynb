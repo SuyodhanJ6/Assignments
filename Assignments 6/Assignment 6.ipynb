{
 "cells": [
  {
   "cell_type": "code",
   "execution_count": 2,
   "metadata": {},
   "outputs": [
    {
     "name": "stdout",
     "output_type": "stream",
     "text": [
      "Positive\n"
     ]
    }
   ],
   "source": [
    "# 1. Write a python script to check whether a given number is positive or non-positive\n",
    "a = int(input(\"Enter a number : \"))\n",
    "print(\"Positive\" if a > 0 else \"Non-Positive\")"
   ]
  },
  {
   "cell_type": "code",
   "execution_count": 5,
   "metadata": {},
   "outputs": [
    {
     "name": "stdout",
     "output_type": "stream",
     "text": [
      "divisible by 5\n"
     ]
    }
   ],
   "source": [
    "# 2. Write a python script to check whether a given number is divisible by 5 or not\n",
    "\n",
    "a = int(input(\"Enter a number : \")) #5\n",
    "\n",
    "if a % 5 == 0:\n",
    "    print(\"divisible by 5\")\n",
    "else:\n",
    "    print(\"not divisible by 5\")"
   ]
  },
  {
   "cell_type": "code",
   "execution_count": 8,
   "metadata": {},
   "outputs": [
    {
     "name": "stdout",
     "output_type": "stream",
     "text": [
      "odd\n"
     ]
    }
   ],
   "source": [
    "# 3. Write a python script to check whether a given number is even or odd\n",
    "\n",
    "a = int(input(\"Enter a number : \")) #5\n",
    "\n",
    "if a % 2 == 0:\n",
    "    print(\"even\")\n",
    "else:\n",
    "    print(\"odd\")"
   ]
  },
  {
   "cell_type": "code",
   "execution_count": 9,
   "metadata": {},
   "outputs": [
    {
     "name": "stdout",
     "output_type": "stream",
     "text": [
      "second number is greater than first \n"
     ]
    }
   ],
   "source": [
    "# 4. Write a python script to print greater between two numbers. Print number only once\n",
    "# even if the numbers are the same.\n",
    "\n",
    "num1 = int(input(\"Enter a first number : \")) #5\n",
    "num2 = int(input(\"Enter a second number : \")) #10\n",
    "\n",
    "if num1 >= num2:\n",
    "    if num1 == num1:\n",
    "        print(\"Both are equal \")\n",
    "    print(\"first number is greater than second \")\n",
    "else:\n",
    "    print(\"second number is greater than first \")"
   ]
  },
  {
   "cell_type": "code",
   "execution_count": 19,
   "metadata": {},
   "outputs": [
    {
     "name": "stdout",
     "output_type": "stream",
     "text": [
      "['Apple', 'Prashant']\n"
     ]
    }
   ],
   "source": [
    "# 5. Write a python script to print two given words in dictionary order\n",
    "\n",
    "word = \"Prashant Apple\"\n",
    "words = word.split()\n",
    "words.sort()\n",
    "print(words)"
   ]
  },
  {
   "cell_type": "code",
   "execution_count": 27,
   "metadata": {},
   "outputs": [
    {
     "name": "stdout",
     "output_type": "stream",
     "text": [
      "Number is three digit\n"
     ]
    }
   ],
   "source": [
    "# 6. Write a python script to check whether a given number is a three digit number or not.\n",
    "\n",
    "num = int(input(\"Enter a number : \")) # 123\n",
    "l = len(str(num))\n",
    "if l == 3:\n",
    "    print(\"Number is three digit\") \n",
    "else:\n",
    "    print(\"Number is not three digit\")"
   ]
  },
  {
   "cell_type": "code",
   "execution_count": 31,
   "metadata": {},
   "outputs": [
    {
     "name": "stdout",
     "output_type": "stream",
     "text": [
      "Number is negative\n"
     ]
    }
   ],
   "source": [
    "# 7. Write a python script to check whether a given number is positive, negative or zero.\n",
    "\n",
    "num = int(input(\"Enter a number : \")) #0\n",
    "if num > 0:\n",
    "    print(\"Number is positive\")\n",
    "else:\n",
    "    print(\"Number is negative\")"
   ]
  },
  {
   "cell_type": "code",
   "execution_count": 13,
   "metadata": {},
   "outputs": [],
   "source": [
    "# 8. Write a python script to check whether a given quadratic equation has two real &\n",
    "# distinct roots, real & equal roots or imaginary roots\n",
    "\n"
   ]
  },
  {
   "cell_type": "code",
   "execution_count": 34,
   "metadata": {},
   "outputs": [
    {
     "name": "stdout",
     "output_type": "stream",
     "text": [
      "2022 is not leap year\n"
     ]
    }
   ],
   "source": [
    "# 9. Write a python script to check whether a given year is a leap year or not.\n",
    "\n",
    "year = int(input(\"Enter a year\")) # 2022\n",
    "\n",
    "if (year % 400 == 0) and (year % 100 == 0):\n",
    "    print(f'{year} is leap year')\n",
    "elif (year % 4==0) and (year % 100 != 0):\n",
    "    print(f'{year} is leap year')\n",
    "else:\n",
    "    print(f'{year} is not leap year')"
   ]
  },
  {
   "cell_type": "code",
   "execution_count": 36,
   "metadata": {},
   "outputs": [
    {
     "name": "stdout",
     "output_type": "stream",
     "text": [
      "15 is greater than 5 and 10\n"
     ]
    }
   ],
   "source": [
    "# 10. Write a python script to print greater among three numbers. Print number only once\n",
    "# even if the numbers are the same.\n",
    "\n",
    "num1 = int(input(\"Enter a first number : \")) #5\n",
    "num2 = int(input(\"Enter a second number : \")) #10\n",
    "num3 = int(input(\"Enter a first number : \")) #15\n",
    "\n",
    "if (num1>num2) and (num1>num3):\n",
    "    print(f'{num1} is greater than {num2} and {num3}')\n",
    "\n",
    "elif (num2 >  num1) and (num2 > num3):\n",
    "    print(f'{num2} is greater than {num1} and {num3}')\n",
    "else:\n",
    "    print(f'{num3} is greater than {num1} and {num2}')\n"
   ]
  },
  {
   "cell_type": "code",
   "execution_count": 38,
   "metadata": {},
   "outputs": [
    {
     "name": "stdout",
     "output_type": "stream",
     "text": [
      "29 days\n"
     ]
    }
   ],
   "source": [
    "# 11. Write a python script to take the month value in numeric format and display the\n",
    "# number of days in it.\n",
    "\n",
    "year = int(input(\"Enter a month\")) # 2022\n",
    "month = int(input(\"Enter a month\")) # 3\n",
    "\n",
    "if ((month == 2) and ((year % 4) == 0)) or (((year%100) == 0)and ((year%400) == 0)):\n",
    "    print(\"28 days\")\n",
    "\n",
    "elif (month == 2):\n",
    "    print(\"29 days\")\n",
    "elif (month == 1) or (month == 3) or (month == 5) or (month == 7) or (month==8) or (month==10) or (month == 12):\n",
    "    print(\"31 days\")\n",
    "else:\n",
    "    print(\"30 days\")"
   ]
  },
  {
   "cell_type": "code",
   "execution_count": 43,
   "metadata": {},
   "outputs": [
    {
     "name": "stdout",
     "output_type": "stream",
     "text": [
      "imaginary is greater than real\n"
     ]
    }
   ],
   "source": [
    "# 12. Write a python script to accept one complex number from the user and display the\n",
    "# greater number between real part and imaginary part\n",
    "\n",
    "a = 3 + 9j\n",
    "real = a.real\n",
    "imaginary = a.imag\n",
    "print(\"real is greater than imaginary\" if real > imaginary else \"imaginary is greater than real\")"
   ]
  },
  {
   "cell_type": "code",
   "execution_count": null,
   "metadata": {},
   "outputs": [],
   "source": []
  },
  {
   "cell_type": "code",
   "execution_count": null,
   "metadata": {},
   "outputs": [],
   "source": []
  }
 ],
 "metadata": {
  "kernelspec": {
   "display_name": "Python 3.9.12 ('base')",
   "language": "python",
   "name": "python3"
  },
  "language_info": {
   "codemirror_mode": {
    "name": "ipython",
    "version": 3
   },
   "file_extension": ".py",
   "mimetype": "text/x-python",
   "name": "python",
   "nbconvert_exporter": "python",
   "pygments_lexer": "ipython3",
   "version": "3.9.12"
  },
  "orig_nbformat": 4,
  "vscode": {
   "interpreter": {
    "hash": "ae9226d693027601aceae575eedf350f61d5dcad848992823f4124ba0f6253a8"
   }
  }
 },
 "nbformat": 4,
 "nbformat_minor": 2
}
