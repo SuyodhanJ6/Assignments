{
 "cells": [
  {
   "cell_type": "code",
   "execution_count": 1,
   "metadata": {},
   "outputs": [
    {
     "name": "stdout",
     "output_type": "stream",
     "text": [
      "Learning Python\n"
     ]
    }
   ],
   "source": [
    "# 1. Write a python script to add comments and print “Learning Python” on screen.\n",
    "\n",
    "# Print the Learning Python\n",
    "print(\"Learning Python\")"
   ]
  },
  {
   "cell_type": "code",
   "execution_count": 2,
   "metadata": {},
   "outputs": [
    {
     "name": "stdout",
     "output_type": "stream",
     "text": [
      "S\n",
      "U\n",
      "Y\n",
      "D\n"
     ]
    }
   ],
   "source": [
    "# 2. Write a python script to add multi line comments and print values of four variables,\n",
    "# each in a new line. Variable contains any values.\n",
    "\n",
    "\"\"\" Printing four variables each a new line \"\"\"\n",
    "a = \"S\"\n",
    "b = \"U\"\n",
    "c = \"Y\"\n",
    "d = \"D\"\n",
    "print(a,b,c,d, sep = \"\\n\")"
   ]
  },
  {
   "cell_type": "code",
   "execution_count": 3,
   "metadata": {},
   "outputs": [
    {
     "name": "stdout",
     "output_type": "stream",
     "text": [
      "<class 'int'>\n",
      "<class 'bool'>\n",
      "<class 'str'>\n",
      "<class 'float'>\n",
      "<class 'complex'>\n"
     ]
    }
   ],
   "source": [
    "# 3. Write a python script to print types of variables. Create 5 variables each of them\n",
    "# containing different types of data. (like 35, True, “MySirG”,5.46, 3+4j, etc)\n",
    "\n",
    "a = 35\n",
    "b = True\n",
    "c = \"“MySirG”Y\"\n",
    "d = 5.46\n",
    "e = 3+4j\n",
    "print(type(a))\n",
    "print(type(b))\n",
    "print(type(c))\n",
    "print(type(d))\n",
    "print(type(e))"
   ]
  },
  {
   "cell_type": "code",
   "execution_count": 4,
   "metadata": {},
   "outputs": [
    {
     "name": "stdout",
     "output_type": "stream",
     "text": [
      "1553862323248\n",
      "1553862323248\n"
     ]
    }
   ],
   "source": [
    "# 4. Write a python script to print the id of two variables containing the same integer\n",
    "# values.\n",
    "\n",
    "x = 25\n",
    "y = 25\n",
    "print(id(x))\n",
    "print(id(y))"
   ]
  },
  {
   "cell_type": "code",
   "execution_count": 8,
   "metadata": {},
   "outputs": [
    {
     "name": "stdout",
     "output_type": "stream",
     "text": [
      "value is: 35 and data type is: <class 'int'> and id is: 1553862323568\n",
      "value is: True and data type is: <class 'bool'> and id is: 140708928411752\n",
      "value is: “MySirG”Y and data type is: <class 'str'> and id is: 1553971428240\n",
      "value is: 5.46 and data type is: <class 'float'> and id is: 1553980681232\n"
     ]
    }
   ],
   "source": [
    "# 5. Create four variables in a Python script and assign values of different data types to\n",
    "# them. Write a Python script to print value, its type and id of each variable\n",
    "\n",
    "a = 35\n",
    "b = True\n",
    "c = \"“MySirG”Y\"\n",
    "d = 5.46\n",
    "print(f'value is: {a} and data type is: {type(a)} and id is: {id(a)}')\n",
    "print(f'value is: {b} and data type is: {type(b)} and id is: {id(b)}')\n",
    "print(f'value is: {c} and data type is: {type(c)} and id is: {id(c)}')\n",
    "print(f'value is: {d} and data type is: {type(d)} and id is: {id(d)}')"
   ]
  },
  {
   "cell_type": "code",
   "execution_count": 12,
   "metadata": {},
   "outputs": [
    {
     "name": "stdout",
     "output_type": "stream",
     "text": [
      "['False', 'None', 'True', '__peg_parser__', 'and', 'as', 'assert', 'async', 'await', 'break', 'class', 'continue', 'def', 'del', 'elif', 'else', 'except', 'finally', 'for', 'from', 'global', 'if', 'import', 'in', 'is', 'lambda', 'nonlocal', 'not', 'or', 'pass', 'raise', 'return', 'try', 'while', 'with', 'yield']\n"
     ]
    }
   ],
   "source": [
    "# 6. Write a python script to print all the keywords\n",
    "import keyword\n",
    "print(keyword.kwlist)"
   ]
  },
  {
   "cell_type": "code",
   "execution_count": 13,
   "metadata": {},
   "outputs": [],
   "source": [
    "# 7. On Python shell use help() function and display the list of keywords\n",
    "\n",
    "# In Python Shell we are just writing      help() "
   ]
  },
  {
   "cell_type": "code",
   "execution_count": 14,
   "metadata": {},
   "outputs": [
    {
     "data": {
      "text/plain": [
       "'\\nCreate A0.py, A1.py\\nIn A1.py \\n    x = 5\\n\\nIn A0.py\\n    import A1\\n    print(A1.x)\\n'"
      ]
     },
     "execution_count": 14,
     "metadata": {},
     "output_type": "execute_result"
    }
   ],
   "source": [
    "# 8. Create two Python files A0.py and A1.py. Create a variable in A1.py and assign some\n",
    "# value to it. Write a python script to import A1 module in A0 and print value of the\n",
    "# variable created in A0.py\n",
    "\n",
    "# ans\n",
    "\"\"\"\n",
    "Create A0.py, A1.py\n",
    "In A1.py \n",
    "    x = 5\n",
    "\n",
    "In A0.py\n",
    "    import A1\n",
    "    print(A1.x)\n",
    "\"\"\""
   ]
  },
  {
   "cell_type": "code",
   "execution_count": 15,
   "metadata": {},
   "outputs": [
    {
     "data": {
      "text/plain": [
       "'\\n1. None\\n2. False\\n3.True\\n'"
      ]
     },
     "execution_count": 15,
     "metadata": {},
     "output_type": "execute_result"
    }
   ],
   "source": [
    "# 9. Name the keywords, used as data in the Python script.\n",
    "\n",
    "\"\"\"\n",
    "1. None\n",
    "2. False\n",
    "3.True\n",
    "\"\"\"\n"
   ]
  },
  {
   "cell_type": "code",
   "execution_count": 27,
   "metadata": {},
   "outputs": [
    {
     "name": "stdout",
     "output_type": "stream",
     "text": [
      "17-08-2022\n"
     ]
    }
   ],
   "source": [
    "# 10. Write a python script to display the current date and time. First create variables to\n",
    "# store date and time, then display date and time in proper format (like: 13-8-2022 and\n",
    "# 9:00 PM)\n",
    "\n",
    "import datetime\n",
    "d = datetime.datetime.today().strftime(\"%d-%m-%Y\")\n",
    "print(d)\n"
   ]
  },
  {
   "cell_type": "code",
   "execution_count": 37,
   "metadata": {},
   "outputs": [
    {
     "name": "stdout",
     "output_type": "stream",
     "text": [
      "11:23 PM\n"
     ]
    }
   ],
   "source": [
    "print(datetime.datetime.now().strftime(\"%I:%M %p\"))"
   ]
  },
  {
   "cell_type": "code",
   "execution_count": null,
   "metadata": {},
   "outputs": [],
   "source": []
  }
 ],
 "metadata": {
  "kernelspec": {
   "display_name": "Python 3.9.12 ('base')",
   "language": "python",
   "name": "python3"
  },
  "language_info": {
   "codemirror_mode": {
    "name": "ipython",
    "version": 3
   },
   "file_extension": ".py",
   "mimetype": "text/x-python",
   "name": "python",
   "nbconvert_exporter": "python",
   "pygments_lexer": "ipython3",
   "version": "3.9.12"
  },
  "orig_nbformat": 4,
  "vscode": {
   "interpreter": {
    "hash": "ae9226d693027601aceae575eedf350f61d5dcad848992823f4124ba0f6253a8"
   }
  }
 },
 "nbformat": 4,
 "nbformat_minor": 2
}
