{
 "cells": [
  {
   "cell_type": "code",
   "execution_count": 6,
   "metadata": {},
   "outputs": [
    {
     "data": {
      "text/plain": [
       "'3.9.12 (main, Apr  4 2022, 05:22:27) [MSC v.1916 64 bit (AMD64)]'"
      ]
     },
     "execution_count": 6,
     "metadata": {},
     "output_type": "execute_result"
    }
   ],
   "source": [
    "# 1. Write a command to get the Python version you are using.\n",
    "import sys \n",
    "sys.version"
   ]
  },
  {
   "cell_type": "code",
   "execution_count": 8,
   "metadata": {},
   "outputs": [
    {
     "name": "stdout",
     "output_type": "stream",
     "text": [
      "Hello Python\n"
     ]
    }
   ],
   "source": [
    "# 2.Write a python script to print Hello Python on the screen directly in the command line.\n",
    "print(\"Hello Python\")"
   ]
  },
  {
   "cell_type": "code",
   "execution_count": null,
   "metadata": {},
   "outputs": [],
   "source": []
  },
  {
   "cell_type": "code",
   "execution_count": 9,
   "metadata": {},
   "outputs": [
    {
     "name": "stdout",
     "output_type": "stream",
     "text": [
      "Hello Python\n"
     ]
    }
   ],
   "source": [
    "# 4. Write a python script to print Hello Python on the screen using visual studio code.\n",
    "print(\"Hello Python\")"
   ]
  },
  {
   "cell_type": "code",
   "execution_count": 17,
   "metadata": {},
   "outputs": [
    {
     "name": "stdout",
     "output_type": "stream",
     "text": [
      "Hello\n",
      "Python\n"
     ]
    }
   ],
   "source": [
    "# 5.Write a python script to print Hello on the first line and Python on the second line\n",
    "print(\"Hello\\nPython\")"
   ]
  },
  {
   "cell_type": "code",
   "execution_count": 18,
   "metadata": {},
   "outputs": [
    {
     "name": "stdout",
     "output_type": "stream",
     "text": [
      "MySirG\n"
     ]
    }
   ],
   "source": [
    "# 6.Write a python script to print “MySirG” on the screen\n",
    "print(\"MySirG\")"
   ]
  },
  {
   "cell_type": "code",
   "execution_count": 19,
   "metadata": {},
   "outputs": [
    {
     "name": "stdout",
     "output_type": "stream",
     "text": [
      "Teacher’s Day\n"
     ]
    }
   ],
   "source": [
    "# 7. Write a python script to print “Teacher’s Day” on the screen\n",
    "print('Teacher’s Day')"
   ]
  },
  {
   "cell_type": "code",
   "execution_count": 20,
   "metadata": {},
   "outputs": [
    {
     "name": "stdout",
     "output_type": "stream",
     "text": [
      "Suyodhan\n"
     ]
    }
   ],
   "source": [
    "# 8. Write a python script to print the value of a variable. Variable contains your name as data.\n",
    "x = 'Suyodhan'\n",
    "print(x)"
   ]
  },
  {
   "cell_type": "code",
   "execution_count": 21,
   "metadata": {},
   "outputs": [
    {
     "name": "stdout",
     "output_type": "stream",
     "text": [
      "Suyodhan\n",
      "22\n",
      "Btech 2rd Year\n",
      "2022\n"
     ]
    }
   ],
   "source": [
    "# 9. Write a python script to create variables to store your name, age, qualification, years\n",
    "     #of experience and print it.\n",
    "name = \"Suyodhan\"\n",
    "age = 22\n",
    "qualification = \"Btech 2rd Year\"\n",
    "year = 2022\n",
    "\n",
    "print(name)\n",
    "print(age)\n",
    "print(qualification)\n",
    "print(year)"
   ]
  },
  {
   "cell_type": "code",
   "execution_count": 27,
   "metadata": {},
   "outputs": [
    {
     "name": "stdout",
     "output_type": "stream",
     "text": [
      "1\n",
      "2\n",
      "3\n"
     ]
    }
   ],
   "source": [
    "# 10. Write a python script to print values of three variables, each in a new line. Variable\n",
    "# contains integer values\n",
    "x = 1\n",
    "y = 2\n",
    "z = 3\n",
    "print(x, y, z, sep = '\\n')"
   ]
  },
  {
   "cell_type": "code",
   "execution_count": null,
   "metadata": {},
   "outputs": [],
   "source": []
  }
 ],
 "metadata": {
  "kernelspec": {
   "display_name": "Python 3.9.12 ('base')",
   "language": "python",
   "name": "python3"
  },
  "language_info": {
   "codemirror_mode": {
    "name": "ipython",
    "version": 3
   },
   "file_extension": ".py",
   "mimetype": "text/x-python",
   "name": "python",
   "nbconvert_exporter": "python",
   "pygments_lexer": "ipython3",
   "version": "3.9.12"
  },
  "orig_nbformat": 4,
  "vscode": {
   "interpreter": {
    "hash": "ae9226d693027601aceae575eedf350f61d5dcad848992823f4124ba0f6253a8"
   }
  }
 },
 "nbformat": 4,
 "nbformat_minor": 2
}
