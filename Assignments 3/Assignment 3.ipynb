{
 "cells": [
  {
   "cell_type": "code",
   "execution_count": 2,
   "metadata": {},
   "outputs": [
    {
     "name": "stdout",
     "output_type": "stream",
     "text": [
      "<class 'str'>\n"
     ]
    }
   ],
   "source": [
    "# 1. Write a python script to convert a number into str type.\n",
    "a = 5\n",
    "b = str(a)\n",
    "print(type(b))"
   ]
  },
  {
   "cell_type": "code",
   "execution_count": 33,
   "metadata": {},
   "outputs": [
    {
     "name": "stdout",
     "output_type": "stream",
     "text": [
      "109\n"
     ]
    }
   ],
   "source": [
    "# 2. Write a python script to print Unicode of the character ‘m’\n",
    "\n",
    "# a = 'Hello Suyodhan'\n",
    "# print(f'Orginal character is : {a}')\n",
    "# res = ''.join(r'\\u{:04x}'.format(ord(i)) for i in a)\n",
    "# print(f'Unicode is : {res}')\n",
    "\n",
    "\n",
    "\n",
    "x = ord('m')\n",
    "print(x)"
   ]
  },
  {
   "cell_type": "code",
   "execution_count": 34,
   "metadata": {},
   "outputs": [
    {
     "name": "stdout",
     "output_type": "stream",
     "text": [
      "d\n"
     ]
    }
   ],
   "source": [
    "# 3. Write a python script to print character representation of a given unicode 100.\n",
    "x = chr(100)\n",
    "print(x)\n"
   ]
  },
  {
   "cell_type": "code",
   "execution_count": 31,
   "metadata": {},
   "outputs": [
    {
     "name": "stdout",
     "output_type": "stream",
     "text": [
      "109\n"
     ]
    }
   ],
   "source": [
    "i = ord('m')\n",
    "print(i)\n"
   ]
  },
  {
   "cell_type": "code",
   "execution_count": 35,
   "metadata": {},
   "outputs": [
    {
     "name": "stdout",
     "output_type": "stream",
     "text": [
      "0b1100100\n"
     ]
    }
   ],
   "source": [
    "# 4. Write a python script to print any number and its binary equivalent\n",
    "\n",
    "l = bin(100)\n",
    "print(l)"
   ]
  },
  {
   "cell_type": "code",
   "execution_count": 36,
   "metadata": {},
   "outputs": [
    {
     "name": "stdout",
     "output_type": "stream",
     "text": [
      "0o144\n"
     ]
    }
   ],
   "source": [
    "# 5. Write a python script to print any number and its octal equivalent.\n",
    "\n",
    "l = oct(100)\n",
    "print(l)"
   ]
  },
  {
   "cell_type": "code",
   "execution_count": 37,
   "metadata": {},
   "outputs": [
    {
     "name": "stdout",
     "output_type": "stream",
     "text": [
      "0x64\n"
     ]
    }
   ],
   "source": [
    "# 6. Write a python script to print any number and its hexadecimal equivalent.\n",
    "\n",
    "l = hex(100)\n",
    "print(l)"
   ]
  },
  {
   "cell_type": "code",
   "execution_count": 9,
   "metadata": {},
   "outputs": [
    {
     "name": "stdout",
     "output_type": "stream",
     "text": [
      "101\n"
     ]
    }
   ],
   "source": [
    "# 7. Write a python script to store binary number 1100101 in a variable and print it in\n",
    "# decimal format.\n",
    "\n",
    "binary = str(1100101)\n",
    "print(int(binary, 2))\n",
    "\n",
    "# binary = 1100101\n",
    "# decimal = 0\n",
    "# for i in binary:\n",
    "#     decimal = decimal*2 + int(i)\n",
    "# print(decimal)"
   ]
  },
  {
   "cell_type": "code",
   "execution_count": 22,
   "metadata": {},
   "outputs": [
    {
     "ename": "TypeError",
     "evalue": "'int' object is not callable",
     "output_type": "error",
     "traceback": [
      "\u001b[1;31m---------------------------------------------------------------------------\u001b[0m",
      "\u001b[1;31mTypeError\u001b[0m                                 Traceback (most recent call last)",
      "\u001b[1;32me:\\Assignments\\Untitled-1.ipynb Cell 9\u001b[0m in \u001b[0;36m<cell line: 5>\u001b[1;34m()\u001b[0m\n\u001b[0;32m      <a href='vscode-notebook-cell:/e%3A/Assignments/Untitled-1.ipynb#X11sZmlsZQ%3D%3D?line=0'>1</a>\u001b[0m \u001b[39m# 8. Write a python script to store a hexadecimal number 2F in a variable and print it in\u001b[39;00m\n\u001b[0;32m      <a href='vscode-notebook-cell:/e%3A/Assignments/Untitled-1.ipynb#X11sZmlsZQ%3D%3D?line=1'>2</a>\u001b[0m \u001b[39m# octal format.\u001b[39;00m\n\u001b[0;32m      <a href='vscode-notebook-cell:/e%3A/Assignments/Untitled-1.ipynb#X11sZmlsZQ%3D%3D?line=3'>4</a>\u001b[0m hexadecimal \u001b[39m=\u001b[39m \u001b[39mstr\u001b[39m(\u001b[39m'\u001b[39m\u001b[39mF\u001b[39m\u001b[39m'\u001b[39m)\n\u001b[1;32m----> <a href='vscode-notebook-cell:/e%3A/Assignments/Untitled-1.ipynb#X11sZmlsZQ%3D%3D?line=4'>5</a>\u001b[0m \u001b[39moct\u001b[39m \u001b[39m=\u001b[39m \u001b[39moct\u001b[39;49m(\u001b[39mint\u001b[39;49m(hexadecimal, \u001b[39m16\u001b[39;49m))\n\u001b[0;32m      <a href='vscode-notebook-cell:/e%3A/Assignments/Untitled-1.ipynb#X11sZmlsZQ%3D%3D?line=5'>6</a>\u001b[0m \u001b[39mprint\u001b[39m(\u001b[39moct\u001b[39m)\n",
      "\u001b[1;31mTypeError\u001b[0m: 'int' object is not callable"
     ]
    }
   ],
   "source": [
    "# 8. Write a python script to store a hexadecimal number 2F in a variable and print it in\n",
    "# octal format.\n",
    "\n",
    "hexadecimal = str('2F')\n",
    "oct = oct(int(hexadecimal, 16))\n",
    "print(oct)"
   ]
  },
  {
   "cell_type": "code",
   "execution_count": 27,
   "metadata": {},
   "outputs": [
    {
     "name": "stdout",
     "output_type": "stream",
     "text": [
      "0b1010101\n"
     ]
    }
   ],
   "source": [
    "# 9. Write a python script to store an octal number 125 in a variable and print it in binary\n",
    "# format.\n",
    "\n",
    "octal = str(125)\n",
    "octal = int(octal, 8)\n",
    "binary = bin(octal)\n",
    "print(binary)\n"
   ]
  },
  {
   "cell_type": "code",
   "execution_count": 41,
   "metadata": {},
   "outputs": [
    {
     "name": "stdout",
     "output_type": "stream",
     "text": [
      "0b1001110\n"
     ]
    }
   ],
   "source": [
    "# 10. Write a python script to add two numbers 25 (in octal) and 39 (in hexadecimal) and\n",
    "# display the result in binary format.\n",
    "\n",
    "octal = str(25)\n",
    "decimal_octal =  int(octal, 8)\n",
    "\n",
    "hexadecimal = str(39)\n",
    "decimal_hexadecimal = int(hexadecimal, 16)\n",
    "\n",
    "sum = decimal_octal + decimal_hexadecimal\n",
    "binary = bin(sum)\n",
    "print(binary)"
   ]
  },
  {
   "cell_type": "code",
   "execution_count": null,
   "metadata": {},
   "outputs": [],
   "source": []
  },
  {
   "cell_type": "code",
   "execution_count": null,
   "metadata": {},
   "outputs": [],
   "source": []
  },
  {
   "cell_type": "code",
   "execution_count": null,
   "metadata": {},
   "outputs": [],
   "source": [
    "\n",
    "\n"
   ]
  },
  {
   "cell_type": "code",
   "execution_count": null,
   "metadata": {},
   "outputs": [],
   "source": []
  },
  {
   "cell_type": "code",
   "execution_count": null,
   "metadata": {},
   "outputs": [],
   "source": []
  },
  {
   "cell_type": "code",
   "execution_count": null,
   "metadata": {},
   "outputs": [],
   "source": []
  }
 ],
 "metadata": {
  "kernelspec": {
   "display_name": "Python 3.9.12 ('base')",
   "language": "python",
   "name": "python3"
  },
  "language_info": {
   "codemirror_mode": {
    "name": "ipython",
    "version": 3
   },
   "file_extension": ".py",
   "mimetype": "text/x-python",
   "name": "python",
   "nbconvert_exporter": "python",
   "pygments_lexer": "ipython3",
   "version": "3.9.12"
  },
  "orig_nbformat": 4,
  "vscode": {
   "interpreter": {
    "hash": "ae9226d693027601aceae575eedf350f61d5dcad848992823f4124ba0f6253a8"
   }
  }
 },
 "nbformat": 4,
 "nbformat_minor": 2
}
