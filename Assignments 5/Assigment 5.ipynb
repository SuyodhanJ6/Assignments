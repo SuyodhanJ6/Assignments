{
 "cells": [
  {
   "cell_type": "code",
   "execution_count": 1,
   "metadata": {},
   "outputs": [
    {
     "name": "stdout",
     "output_type": "stream",
     "text": [
      "253\n"
     ]
    }
   ],
   "source": [
    "# 1. Write a python script to remove the last digit from a given number. (for example, if\n",
    "# user enters 2534 then your output should be 253)\n",
    "\n",
    "x = 2534\n",
    "print(x // 10)"
   ]
  },
  {
   "cell_type": "code",
   "execution_count": 8,
   "metadata": {},
   "outputs": [
    {
     "name": "stdout",
     "output_type": "stream",
     "text": [
      "last digit of 2089 : 9\n"
     ]
    }
   ],
   "source": [
    "# 2. Write a python script to get the last digit from a given number. (for example, if user\n",
    "# enters 2089 then your output should be 9)\n",
    "\n",
    "x = 2089\n",
    "print(f'last digit of {x} : {str(x)[-1]}')"
   ]
  },
  {
   "cell_type": "code",
   "execution_count": 13,
   "metadata": {},
   "outputs": [
    {
     "name": "stdout",
     "output_type": "stream",
     "text": [
      "2\n",
      "1\n"
     ]
    }
   ],
   "source": [
    "# 3. Write a python script to swap data of two variables\n",
    "\n",
    "x = 1\n",
    "y = 2\n",
    "# swapping\n",
    "\"\"\"temp = x\n",
    "x = y\n",
    "y = temp\"\"\"\n",
    "\n",
    "x, y = y, x\n",
    "\n",
    "print(x)\n",
    "print(y)"
   ]
  },
  {
   "cell_type": "code",
   "execution_count": 16,
   "metadata": {},
   "outputs": [
    {
     "name": "stdout",
     "output_type": "stream",
     "text": [
      "4\n"
     ]
    }
   ],
   "source": [
    "# 4. Write a python script to find x power y, where values of x and y are given by user\n",
    "\n",
    "x = int(input(\"Enter a first number : \"))\n",
    "y = int(input(\"Enter a second number : \"))\n",
    "\n",
    "c = x**y\n",
    "print(c)"
   ]
  },
  {
   "cell_type": "code",
   "execution_count": 19,
   "metadata": {},
   "outputs": [
    {
     "name": "stdout",
     "output_type": "stream",
     "text": [
      "1\n"
     ]
    }
   ],
   "source": [
    "# 5. Write a python script which takes a three digit number from the user and displays\n",
    "# only its first digit.\n",
    "\n",
    "number = int(input(\"Enter a number : \"))\n",
    "print(str(number)[0])"
   ]
  },
  {
   "cell_type": "code",
   "execution_count": 20,
   "metadata": {},
   "outputs": [
    {
     "name": "stdout",
     "output_type": "stream",
     "text": [
      "2\n"
     ]
    }
   ],
   "source": [
    "# 6. Write a python script which takes a three digit number from the user and displays\n",
    "# only its middle digit.\n",
    "\n",
    "number = int(input(\"Enter a number : \"))\n",
    "print(str(number)[1])"
   ]
  },
  {
   "cell_type": "code",
   "execution_count": 21,
   "metadata": {},
   "outputs": [
    {
     "name": "stdout",
     "output_type": "stream",
     "text": [
      "3\n"
     ]
    }
   ],
   "source": [
    "# 7. Write a python script which takes a three digit number from the user and displays\n",
    "# only its last digit.\n",
    "\n",
    "number = int(input(\"Enter a number : \"))\n",
    "print(str(number)[-1])"
   ]
  },
  {
   "cell_type": "code",
   "execution_count": 22,
   "metadata": {},
   "outputs": [
    {
     "name": "stdout",
     "output_type": "stream",
     "text": [
      "True\n"
     ]
    }
   ],
   "source": [
    "# 8. Write a python script to use IN operator to display the data present in the list\n",
    "\n",
    "print(3 in [3, \"string\", 6])"
   ]
  },
  {
   "cell_type": "code",
   "execution_count": 23,
   "metadata": {},
   "outputs": [
    {
     "name": "stdout",
     "output_type": "stream",
     "text": [
      "False\n"
     ]
    }
   ],
   "source": [
    "# 9. Write a python script to use NOT IN operator to display the data not present in list\n",
    "\n",
    "print(3 not in [3, \"string\", 6])"
   ]
  },
  {
   "cell_type": "code",
   "execution_count": 24,
   "metadata": {},
   "outputs": [
    {
     "name": "stdout",
     "output_type": "stream",
     "text": [
      "True\n"
     ]
    }
   ],
   "source": [
    "# 10. Write a python script to use IS operator to display if both variables are the same\n",
    "# object or not?\n",
    "\n",
    "a = 1\n",
    "b = a\n",
    "print(a is b)"
   ]
  },
  {
   "cell_type": "code",
   "execution_count": null,
   "metadata": {},
   "outputs": [],
   "source": []
  }
 ],
 "metadata": {
  "kernelspec": {
   "display_name": "Python 3.9.12 ('base')",
   "language": "python",
   "name": "python3"
  },
  "language_info": {
   "name": "python",
   "version": "3.9.12"
  },
  "orig_nbformat": 4,
  "vscode": {
   "interpreter": {
    "hash": "ae9226d693027601aceae575eedf350f61d5dcad848992823f4124ba0f6253a8"
   }
  }
 },
 "nbformat": 4,
 "nbformat_minor": 2
}
