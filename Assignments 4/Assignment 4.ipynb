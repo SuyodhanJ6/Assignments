{
 "cells": [
  {
   "cell_type": "code",
   "execution_count": 1,
   "metadata": {},
   "outputs": [
    {
     "name": "stdout",
     "output_type": "stream",
     "text": [
      "Suyodhan\n"
     ]
    }
   ],
   "source": [
    "# 1. Write a python script to take your name as input from the user and then print it.\n",
    "\n",
    "a = input(\"Enter Your Name: \")\n",
    "print(a)"
   ]
  },
  {
   "cell_type": "code",
   "execution_count": 2,
   "metadata": {},
   "outputs": [
    {
     "name": "stdout",
     "output_type": "stream",
     "text": [
      "1\n"
     ]
    }
   ],
   "source": [
    "# 2. Write a python script to take input from the user. Input must be a number.\n",
    "\n",
    "a = input(\"Enter the Number: \")\n",
    "print(a)"
   ]
  },
  {
   "cell_type": "code",
   "execution_count": 3,
   "metadata": {},
   "outputs": [
    {
     "name": "stdout",
     "output_type": "stream",
     "text": [
      "3\n"
     ]
    }
   ],
   "source": [
    "#3. Write a python script which takes two numbers from the user, then calculate their sum\n",
    "#   and display the result.\n",
    "\n",
    "a = int(input(\"Enter the first number : \"))\n",
    "b = int(input(\"Enter the second number : \"))\n",
    "\n",
    "c = a + b\n",
    "print(c)\n"
   ]
  },
  {
   "cell_type": "code",
   "execution_count": 4,
   "metadata": {},
   "outputs": [
    {
     "name": "stdout",
     "output_type": "stream",
     "text": [
      "3.14\n"
     ]
    }
   ],
   "source": [
    "#4. Write a python script which takes the radius from the user and display area of a circle\n",
    "\n",
    "# Taking the radius\n",
    "r = int(input(\"Enter the radius : \"))\n",
    "pi = 3.14 # value of pi is 3.14\n",
    "\n",
    "# area of circle is pi*r^2\n",
    "area = pi*r**2\n",
    "print(area)"
   ]
  },
  {
   "cell_type": "code",
   "execution_count": 5,
   "metadata": {},
   "outputs": [
    {
     "name": "stdout",
     "output_type": "stream",
     "text": [
      "4\n"
     ]
    }
   ],
   "source": [
    "#5. Write a python script to calculate the square of a number. Number is entered by the user.\n",
    "\n",
    "a = int(input(\"Enter a number : \"))\n",
    "square = a ** 2\n",
    "print(square) "
   ]
  },
  {
   "cell_type": "code",
   "execution_count": 11,
   "metadata": {},
   "outputs": [
    {
     "name": "stdout",
     "output_type": "stream",
     "text": [
      "2.0\n"
     ]
    }
   ],
   "source": [
    "# 6. Write a python script to calculate the area of Triangle. Number is entered by the user.\n",
    "\n",
    "\"\"\"\n",
    "Area of Triangle = 1/2 * base * height\n",
    "\"\"\"\n",
    "base = int(input(\"Enter the base : \"))\n",
    "height = int(input(\"Enter the height : \"))\n",
    "areaOfTriangle = (1/2) * base * height\n",
    "print(areaOfTriangle)\n"
   ]
  },
  {
   "cell_type": "code",
   "execution_count": 13,
   "metadata": {},
   "outputs": [
    {
     "name": "stdout",
     "output_type": "stream",
     "text": [
      "1.0\n"
     ]
    }
   ],
   "source": [
    "#7. Write a python script to calculate average of three numbers, entered by the user\n",
    "\n",
    "a = int(input(\"Enter the first number : \"))\n",
    "b = int(input(\"Enter the second number\"))\n",
    "c = int(input(\"Enter the third number : \"))\n",
    "\n",
    "avg = (a+b+c) / 3\n",
    "print(avg)"
   ]
  },
  {
   "cell_type": "code",
   "execution_count": 15,
   "metadata": {},
   "outputs": [
    {
     "name": "stdout",
     "output_type": "stream",
     "text": [
      "14.4\n"
     ]
    }
   ],
   "source": [
    "#8. Write a python script to calculate simple interest\n",
    "\n",
    "# Simple interest = (Amount * Year * Rate  of interest) / 100\n",
    "\n",
    "a = 100\n",
    "y = 12\n",
    "r = 1.2\n",
    "\n",
    "si = (a * y * r) / 100\n",
    "print(si)"
   ]
  },
  {
   "cell_type": "code",
   "execution_count": 16,
   "metadata": {},
   "outputs": [
    {
     "name": "stdout",
     "output_type": "stream",
     "text": [
      "8\n"
     ]
    }
   ],
   "source": [
    "#9. Write a python script to calculate the volume of a cuboid.\n",
    "\n",
    "# Volume of cube = length*height*width\n",
    "\n",
    "length = 2\n",
    "height = 2\n",
    "width = 2\n",
    "\n",
    "cube = length*height*width\n",
    "print(cube)"
   ]
  },
  {
   "cell_type": "code",
   "execution_count": 17,
   "metadata": {},
   "outputs": [
    {
     "name": "stdout",
     "output_type": "stream",
     "text": [
      "4\n"
     ]
    }
   ],
   "source": [
    "# 10. Write a python script to calculate area of a rectangle\n",
    "\n",
    "# area of a rectangle = length * width\n",
    "\n",
    "length = 2\n",
    "width = 2\n",
    "\n",
    "areaOfRectangle = length * width\n",
    "print(areaOfRectangle)\n"
   ]
  },
  {
   "cell_type": "code",
   "execution_count": null,
   "metadata": {},
   "outputs": [],
   "source": []
  }
 ],
 "metadata": {
  "kernelspec": {
   "display_name": "Python 3.9.12 ('base')",
   "language": "python",
   "name": "python3"
  },
  "language_info": {
   "codemirror_mode": {
    "name": "ipython",
    "version": 3
   },
   "file_extension": ".py",
   "mimetype": "text/x-python",
   "name": "python",
   "nbconvert_exporter": "python",
   "pygments_lexer": "ipython3",
   "version": "3.9.12"
  },
  "orig_nbformat": 4,
  "vscode": {
   "interpreter": {
    "hash": "ae9226d693027601aceae575eedf350f61d5dcad848992823f4124ba0f6253a8"
   }
  }
 },
 "nbformat": 4,
 "nbformat_minor": 2
}
